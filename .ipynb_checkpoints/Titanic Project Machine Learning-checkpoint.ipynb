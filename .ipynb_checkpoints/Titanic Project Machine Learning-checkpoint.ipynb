{
 "cells": [
  {
   "cell_type": "code",
   "execution_count": 1,
   "metadata": {},
   "outputs": [
    {
     "data": {
      "text/plain": [
       "'\\nTITANIC DATASET PROJECT\\n\\nYavuz Selim Sefunc\\n    \\nAim of the project: \\nwe build logistic regression, decision tree, and polynomial features to predict survival \\non the titanic. Before the model, we build Variance Threshold, SelectKBest,chi2 and \\nSelectFrom which help to choose which indepedent variable best for prediction on titanic dataset.\\n'"
      ]
     },
     "execution_count": 1,
     "metadata": {},
     "output_type": "execute_result"
    }
   ],
   "source": [
    "\"\"\"\n",
    "TITANIC DATASET PROJECT\n",
    "\n",
    "Yavuz Selim Sefunc\n",
    "    \n",
    "Aim of the project: \n",
    "we build logistic regression, decision tree, and polynomial features to predict survival \n",
    "on the titanic. Before the model, we build Variance Threshold, SelectKBest,chi2 and \n",
    "SelectFrom which help to choose which indepedent variable best for prediction on titanic dataset.\n",
    "\"\"\""
   ]
  },
  {
   "cell_type": "code",
   "execution_count": 2,
   "metadata": {
    "collapsed": true
   },
   "outputs": [],
   "source": [
    "#importing library\n",
    "import seaborn as sns\n",
    "import pandas as pd\n",
    "%matplotlib inline"
   ]
  },
  {
   "cell_type": "code",
   "execution_count": 3,
   "metadata": {
    "collapsed": true
   },
   "outputs": [],
   "source": [
    "#%%\n",
    "#read train datasets\n",
    "train = pd.read_csv('/Users/yavuzselimsefunc/Desktop/Final_ITU_Winter/ProjectBeyca/train.csv')"
   ]
  },
  {
   "cell_type": "code",
   "execution_count": 4,
   "metadata": {},
   "outputs": [
    {
     "name": "stdout",
     "output_type": "stream",
     "text": [
      "--- HEAD --- \n",
      "   PassengerId  Survived  Pclass  \\\n",
      "0            1         0       3   \n",
      "1            2         1       1   \n",
      "2            3         1       3   \n",
      "3            4         1       1   \n",
      "4            5         0       3   \n",
      "\n",
      "                                                Name     Sex   Age  SibSp  \\\n",
      "0                            Braund, Mr. Owen Harris    male  22.0      1   \n",
      "1  Cumings, Mrs. John Bradley (Florence Briggs Th...  female  38.0      1   \n",
      "2                             Heikkinen, Miss. Laina  female  26.0      0   \n",
      "3       Futrelle, Mrs. Jacques Heath (Lily May Peel)  female  35.0      1   \n",
      "4                           Allen, Mr. William Henry    male  35.0      0   \n",
      "\n",
      "   Parch            Ticket     Fare Cabin Embarked  \n",
      "0      0         A/5 21171   7.2500   NaN        S  \n",
      "1      0          PC 17599  71.2833   C85        C  \n",
      "2      0  STON/O2. 3101282   7.9250   NaN        S  \n",
      "3      0            113803  53.1000  C123        S  \n",
      "4      0            373450   8.0500   NaN        S  \n"
     ]
    }
   ],
   "source": [
    "#check the train dataset\n",
    "print('--- HEAD --- ')\n",
    "print(train.head())"
   ]
  },
  {
   "cell_type": "code",
   "execution_count": 5,
   "metadata": {},
   "outputs": [
    {
     "name": "stdout",
     "output_type": "stream",
     "text": [
      "--- TAIL --- \n",
      "     PassengerId  Survived  Pclass                                      Name  \\\n",
      "886          887         0       2                     Montvila, Rev. Juozas   \n",
      "887          888         1       1              Graham, Miss. Margaret Edith   \n",
      "888          889         0       3  Johnston, Miss. Catherine Helen \"Carrie\"   \n",
      "889          890         1       1                     Behr, Mr. Karl Howell   \n",
      "890          891         0       3                       Dooley, Mr. Patrick   \n",
      "\n",
      "        Sex   Age  SibSp  Parch      Ticket   Fare Cabin Embarked  \n",
      "886    male  27.0      0      0      211536  13.00   NaN        S  \n",
      "887  female  19.0      0      0      112053  30.00   B42        S  \n",
      "888  female   NaN      1      2  W./C. 6607  23.45   NaN        S  \n",
      "889    male  26.0      0      0      111369  30.00  C148        C  \n",
      "890    male  32.0      0      0      370376   7.75   NaN        Q  \n"
     ]
    }
   ],
   "source": [
    "# check the tail of dataset\n",
    "print('--- TAIL --- ')\n",
    "print(train.tail())"
   ]
  },
  {
   "cell_type": "code",
   "execution_count": 6,
   "metadata": {},
   "outputs": [
    {
     "name": "stdout",
     "output_type": "stream",
     "text": [
      "--- INFO ABOUT DATASET --- \n",
      "<class 'pandas.core.frame.DataFrame'>\n",
      "RangeIndex: 891 entries, 0 to 890\n",
      "Data columns (total 12 columns):\n",
      "PassengerId    891 non-null int64\n",
      "Survived       891 non-null int64\n",
      "Pclass         891 non-null int64\n",
      "Name           891 non-null object\n",
      "Sex            891 non-null object\n",
      "Age            714 non-null float64\n",
      "SibSp          891 non-null int64\n",
      "Parch          891 non-null int64\n",
      "Ticket         891 non-null object\n",
      "Fare           891 non-null float64\n",
      "Cabin          204 non-null object\n",
      "Embarked       889 non-null object\n",
      "dtypes: float64(2), int64(5), object(5)\n",
      "memory usage: 83.6+ KB\n"
     ]
    }
   ],
   "source": [
    "# Display all informations\n",
    "print('--- INFO ABOUT DATASET --- ')\n",
    "train.info()"
   ]
  },
  {
   "cell_type": "code",
   "execution_count": 7,
   "metadata": {},
   "outputs": [
    {
     "name": "stdout",
     "output_type": "stream",
     "text": [
      "--- DESCRIBE --- \n"
     ]
    },
    {
     "data": {
      "text/html": [
       "<div>\n",
       "<style>\n",
       "    .dataframe thead tr:only-child th {\n",
       "        text-align: right;\n",
       "    }\n",
       "\n",
       "    .dataframe thead th {\n",
       "        text-align: left;\n",
       "    }\n",
       "\n",
       "    .dataframe tbody tr th {\n",
       "        vertical-align: top;\n",
       "    }\n",
       "</style>\n",
       "<table border=\"1\" class=\"dataframe\">\n",
       "  <thead>\n",
       "    <tr style=\"text-align: right;\">\n",
       "      <th></th>\n",
       "      <th>PassengerId</th>\n",
       "      <th>Survived</th>\n",
       "      <th>Pclass</th>\n",
       "      <th>Age</th>\n",
       "      <th>SibSp</th>\n",
       "      <th>Parch</th>\n",
       "      <th>Fare</th>\n",
       "    </tr>\n",
       "  </thead>\n",
       "  <tbody>\n",
       "    <tr>\n",
       "      <th>count</th>\n",
       "      <td>891.000000</td>\n",
       "      <td>891.000000</td>\n",
       "      <td>891.000000</td>\n",
       "      <td>714.000000</td>\n",
       "      <td>891.000000</td>\n",
       "      <td>891.000000</td>\n",
       "      <td>891.000000</td>\n",
       "    </tr>\n",
       "    <tr>\n",
       "      <th>mean</th>\n",
       "      <td>446.000000</td>\n",
       "      <td>0.383838</td>\n",
       "      <td>2.308642</td>\n",
       "      <td>29.699118</td>\n",
       "      <td>0.523008</td>\n",
       "      <td>0.381594</td>\n",
       "      <td>32.204208</td>\n",
       "    </tr>\n",
       "    <tr>\n",
       "      <th>std</th>\n",
       "      <td>257.353842</td>\n",
       "      <td>0.486592</td>\n",
       "      <td>0.836071</td>\n",
       "      <td>14.526497</td>\n",
       "      <td>1.102743</td>\n",
       "      <td>0.806057</td>\n",
       "      <td>49.693429</td>\n",
       "    </tr>\n",
       "    <tr>\n",
       "      <th>min</th>\n",
       "      <td>1.000000</td>\n",
       "      <td>0.000000</td>\n",
       "      <td>1.000000</td>\n",
       "      <td>0.420000</td>\n",
       "      <td>0.000000</td>\n",
       "      <td>0.000000</td>\n",
       "      <td>0.000000</td>\n",
       "    </tr>\n",
       "    <tr>\n",
       "      <th>25%</th>\n",
       "      <td>223.500000</td>\n",
       "      <td>0.000000</td>\n",
       "      <td>2.000000</td>\n",
       "      <td>20.125000</td>\n",
       "      <td>0.000000</td>\n",
       "      <td>0.000000</td>\n",
       "      <td>7.910400</td>\n",
       "    </tr>\n",
       "    <tr>\n",
       "      <th>50%</th>\n",
       "      <td>446.000000</td>\n",
       "      <td>0.000000</td>\n",
       "      <td>3.000000</td>\n",
       "      <td>28.000000</td>\n",
       "      <td>0.000000</td>\n",
       "      <td>0.000000</td>\n",
       "      <td>14.454200</td>\n",
       "    </tr>\n",
       "    <tr>\n",
       "      <th>75%</th>\n",
       "      <td>668.500000</td>\n",
       "      <td>1.000000</td>\n",
       "      <td>3.000000</td>\n",
       "      <td>38.000000</td>\n",
       "      <td>1.000000</td>\n",
       "      <td>0.000000</td>\n",
       "      <td>31.000000</td>\n",
       "    </tr>\n",
       "    <tr>\n",
       "      <th>max</th>\n",
       "      <td>891.000000</td>\n",
       "      <td>1.000000</td>\n",
       "      <td>3.000000</td>\n",
       "      <td>80.000000</td>\n",
       "      <td>8.000000</td>\n",
       "      <td>6.000000</td>\n",
       "      <td>512.329200</td>\n",
       "    </tr>\n",
       "  </tbody>\n",
       "</table>\n",
       "</div>"
      ],
      "text/plain": [
       "       PassengerId    Survived      Pclass         Age       SibSp  \\\n",
       "count   891.000000  891.000000  891.000000  714.000000  891.000000   \n",
       "mean    446.000000    0.383838    2.308642   29.699118    0.523008   \n",
       "std     257.353842    0.486592    0.836071   14.526497    1.102743   \n",
       "min       1.000000    0.000000    1.000000    0.420000    0.000000   \n",
       "25%     223.500000    0.000000    2.000000   20.125000    0.000000   \n",
       "50%     446.000000    0.000000    3.000000   28.000000    0.000000   \n",
       "75%     668.500000    1.000000    3.000000   38.000000    1.000000   \n",
       "max     891.000000    1.000000    3.000000   80.000000    8.000000   \n",
       "\n",
       "            Parch        Fare  \n",
       "count  891.000000  891.000000  \n",
       "mean     0.381594   32.204208  \n",
       "std      0.806057   49.693429  \n",
       "min      0.000000    0.000000  \n",
       "25%      0.000000    7.910400  \n",
       "50%      0.000000   14.454200  \n",
       "75%      0.000000   31.000000  \n",
       "max      6.000000  512.329200  "
      ]
     },
     "execution_count": 7,
     "metadata": {},
     "output_type": "execute_result"
    }
   ],
   "source": [
    "# to get information three quartiles, mean, count, minimum and maximum values and the standard deviation.\n",
    "print('--- DESCRIBE --- ')\n",
    "train.describe()"
   ]
  },
  {
   "cell_type": "code",
   "execution_count": 10,
   "metadata": {},
   "outputs": [
    {
     "data": {
      "text/plain": [
       "'As we see above, Age  and Cabin column have lots of missing values. But, age column is important data for explorary data analysis. \\nThus, we get the median of data. '"
      ]
     },
     "execution_count": 10,
     "metadata": {},
     "output_type": "execute_result"
    },
    {
     "data": {
      "image/png": "[encoded data removed]",
      "text/plain": [
       "<matplotlib.figure.Figure at 0x10b7c96a0>"
      ]
     },
     "metadata": {},
     "output_type": "display_data"
    }
   ],
   "source": [
    "#now, we are checking start with a pairplot, and check for missing values\n",
    "sns.heatmap(train.isnull(),cbar=False)\n",
    "\"\"\"As we see above, Age  and Cabin column have lots of missing values. But, age column is important data for explorary data analysis. \n",
    "Thus, we get the median of data. \"\"\""
   ]
  },
  {
   "cell_type": "code",
   "execution_count": 11,
   "metadata": {},
   "outputs": [],
   "source": [
    "#Drop unnecessary columns\n",
    "drop_elements = ['Name','Cabin','Ticket']\n",
    "train = train.drop(drop_elements, axis=1)"
   ]
  },
  {
   "cell_type": "code",
   "execution_count": 12,
   "metadata": {},
   "outputs": [
    {
     "name": "stdout",
     "output_type": "stream",
     "text": [
      "--- DATA CLEANING PROCESS --- \n"
     ]
    }
   ],
   "source": [
    "print('--- DATA CLEANING PROCESS --- ')\n",
    "#Data Cleaning and Data Drop Process\n",
    "train['Fare'] = train['Fare'].fillna(train['Fare'].dropna().median())\n",
    "train['Age'] = train['Age'].fillna(train['Age'].dropna().median())\n",
    "# Change to categoric column to numeric\n",
    "train.loc[train['Sex']=='male','Sex']=0\n",
    "train.loc[train['Sex']=='female','Sex']=1\n",
    "# instead of nan values \n",
    "train['Embarked']=train['Embarked'].fillna('S') \n",
    "# Change to categoric column to numeric\n",
    "train.loc[train['Embarked']=='S','Embarked']=0\n",
    "train.loc[train['Embarked']=='C','Embarked']=1\n",
    "train.loc[train['Embarked']=='Q','Embarked']=2"
   ]
  },
  {
   "cell_type": "code",
   "execution_count": 13,
   "metadata": {},
   "outputs": [
    {
     "data": {
      "text/plain": [
       "<matplotlib.axes._subplots.AxesSubplot at 0x119b5b400>"
      ]
     },
     "execution_count": 13,
     "metadata": {},
     "output_type": "execute_result"
    },
    {
     "data": {
      "image/png": "[encoded data removed]",
      "text/plain": [
       "<matplotlib.figure.Figure at 0x119b55eb8>"
      ]
     },
     "metadata": {},
     "output_type": "display_data"
    }
   ],
   "source": [
    "# Now, data is clean and read to a analyze\n",
    "sns.heatmap(train.isnull(),cbar=False)"
   ]
  },
  {
   "cell_type": "code",
   "execution_count": 14,
   "metadata": {},
   "outputs": [
    {
     "data": {
      "text/plain": [
       "<matplotlib.axes._subplots.AxesSubplot at 0x11a826668>"
      ]
     },
     "execution_count": 14,
     "metadata": {},
     "output_type": "execute_result"
    },
    {
     "data": {
      "image/png": "[encoded data removed]",
      "text/plain": [
       "<matplotlib.figure.Figure at 0x11a847f98>"
      ]
     },
     "metadata": {},
     "output_type": "display_data"
    }
   ],
   "source": [
    "#heatmap for train dataset\n",
    "import matplotlib.pyplot as plt\n",
    "f,ax = plt.subplots(figsize=(5, 5))\n",
    "sns.heatmap(train.corr(), annot=True, linewidths=.5, fmt= '.1f',ax=ax)"
   ]
  },
  {
   "cell_type": "code",
   "execution_count": 15,
   "metadata": {},
   "outputs": [
    {
     "data": {
      "image/png": "[encoded data removed]",
      "text/plain": [
       "<matplotlib.figure.Figure at 0x11a420eb8>"
      ]
     },
     "metadata": {},
     "output_type": "display_data"
    }
   ],
   "source": [
    "# how many people survived or not... %60 percent died %40 percent survived\n",
    "fig = plt.figure(figsize=(18,6))\n",
    "train.Survived.value_counts(normalize=True).plot(kind='bar',alpha=0.5)\n",
    "plt.show()"
   ]
  },
  {
   "cell_type": "code",
   "execution_count": 16,
   "metadata": {},
   "outputs": [
    {
     "data": {
      "image/png": "[encoded data removed]",
      "text/plain": [
       "<matplotlib.figure.Figure at 0x11a4208d0>"
      ]
     },
     "metadata": {},
     "output_type": "display_data"
    }
   ],
   "source": [
    "#Age with survived\n",
    "plt.scatter(train.Survived, train.Age, alpha=0.1)\n",
    "plt.title(\"Age with Survived\")\n",
    "plt.show()"
   ]
  },
  {
   "cell_type": "code",
   "execution_count": 17,
   "metadata": {},
   "outputs": [
    {
     "data": {
      "image/png": "[encoded data removed]",
      "text/plain": [
       "<matplotlib.figure.Figure at 0x11976a668>"
      ]
     },
     "metadata": {},
     "output_type": "display_data"
    }
   ],
   "source": [
    "#Count the pessenger class\n",
    "fig = plt.figure(figsize=(18,6))\n",
    "train.Pclass.value_counts(normalize=True).plot(kind='bar',alpha=0.5)\n",
    "plt.show()"
   ]
  },
  {
   "cell_type": "code",
   "execution_count": 20,
   "metadata": {},
   "outputs": [
    {
     "data": {
      "image/png": "[encoded data removed]",
      "text/plain": [
       "<matplotlib.figure.Figure at 0x116434748>"
      ]
     },
     "metadata": {},
     "output_type": "display_data"
    }
   ],
   "source": [
    "#Women Men together graph\n",
    "female_color='pink'\n",
    "train.Sex[train.Survived==1].value_counts(normalize=True).plot(kind='bar', alpha=0.5,color=[female_color,'b'])\n",
    "plt.title(\"Sex of survived\")\n",
    "plt.show()"
   ]
  },
  {
   "cell_type": "code",
   "execution_count": 21,
   "metadata": {},
   "outputs": [
    {
     "name": "stdout",
     "output_type": "stream",
     "text": [
      "Index(['PassengerId', 'Survived', 'Pclass', 'Sex', 'Age', 'SibSp', 'Parch',\n",
      "       'Fare', 'Embarked'],\n",
      "      dtype='object')\n"
     ]
    }
   ],
   "source": [
    "# which columns we have\n",
    "print(train.columns)"
   ]
  },
  {
   "cell_type": "code",
   "execution_count": 26,
   "metadata": {},
   "outputs": [
    {
     "name": "stdout",
     "output_type": "stream",
     "text": [
      "     PassengerId  Pclass   Age  SibSp  Parch      Fare\n",
      "0            1.0     3.0  22.0    1.0    0.0    7.2500\n",
      "1            2.0     1.0  38.0    1.0    0.0   71.2833\n",
      "2            3.0     3.0  26.0    0.0    0.0    7.9250\n",
      "3            4.0     1.0  35.0    1.0    0.0   53.1000\n",
      "4            5.0     3.0  35.0    0.0    0.0    8.0500\n",
      "5            6.0     3.0  28.0    0.0    0.0    8.4583\n",
      "6            7.0     1.0  54.0    0.0    0.0   51.8625\n",
      "7            8.0     3.0   2.0    3.0    1.0   21.0750\n",
      "8            9.0     3.0  27.0    0.0    2.0   11.1333\n",
      "9           10.0     2.0  14.0    1.0    0.0   30.0708\n",
      "10          11.0     3.0   4.0    1.0    1.0   16.7000\n",
      "11          12.0     1.0  58.0    0.0    0.0   26.5500\n",
      "12          13.0     3.0  20.0    0.0    0.0    8.0500\n",
      "13          14.0     3.0  39.0    1.0    5.0   31.2750\n",
      "14          15.0     3.0  14.0    0.0    0.0    7.8542\n",
      "15          16.0     2.0  55.0    0.0    0.0   16.0000\n",
      "16          17.0     3.0   2.0    4.0    1.0   29.1250\n",
      "17          18.0     2.0  28.0    0.0    0.0   13.0000\n",
      "18          19.0     3.0  31.0    1.0    0.0   18.0000\n",
      "19          20.0     3.0  28.0    0.0    0.0    7.2250\n",
      "20          21.0     2.0  35.0    0.0    0.0   26.0000\n",
      "21          22.0     2.0  34.0    0.0    0.0   13.0000\n",
      "22          23.0     3.0  15.0    0.0    0.0    8.0292\n",
      "23          24.0     1.0  28.0    0.0    0.0   35.5000\n",
      "24          25.0     3.0   8.0    3.0    1.0   21.0750\n",
      "25          26.0     3.0  38.0    1.0    5.0   31.3875\n",
      "26          27.0     3.0  28.0    0.0    0.0    7.2250\n",
      "27          28.0     1.0  19.0    3.0    2.0  263.0000\n",
      "28          29.0     3.0  28.0    0.0    0.0    7.8792\n",
      "29          30.0     3.0  28.0    0.0    0.0    7.8958\n",
      "..           ...     ...   ...    ...    ...       ...\n",
      "861        862.0     2.0  21.0    1.0    0.0   11.5000\n",
      "862        863.0     1.0  48.0    0.0    0.0   25.9292\n",
      "863        864.0     3.0  28.0    8.0    2.0   69.5500\n",
      "864        865.0     2.0  24.0    0.0    0.0   13.0000\n",
      "865        866.0     2.0  42.0    0.0    0.0   13.0000\n",
      "866        867.0     2.0  27.0    1.0    0.0   13.8583\n",
      "867        868.0     1.0  31.0    0.0    0.0   50.4958\n",
      "868        869.0     3.0  28.0    0.0    0.0    9.5000\n",
      "869        870.0     3.0   4.0    1.0    1.0   11.1333\n",
      "870        871.0     3.0  26.0    0.0    0.0    7.8958\n",
      "871        872.0     1.0  47.0    1.0    1.0   52.5542\n",
      "872        873.0     1.0  33.0    0.0    0.0    5.0000\n",
      "873        874.0     3.0  47.0    0.0    0.0    9.0000\n",
      "874        875.0     2.0  28.0    1.0    0.0   24.0000\n",
      "875        876.0     3.0  15.0    0.0    0.0    7.2250\n",
      "876        877.0     3.0  20.0    0.0    0.0    9.8458\n",
      "877        878.0     3.0  19.0    0.0    0.0    7.8958\n",
      "878        879.0     3.0  28.0    0.0    0.0    7.8958\n",
      "879        880.0     1.0  56.0    0.0    1.0   83.1583\n",
      "880        881.0     2.0  25.0    0.0    1.0   26.0000\n",
      "881        882.0     3.0  33.0    0.0    0.0    7.8958\n",
      "882        883.0     3.0  22.0    0.0    0.0   10.5167\n",
      "883        884.0     2.0  28.0    0.0    0.0   10.5000\n",
      "884        885.0     3.0  25.0    0.0    0.0    7.0500\n",
      "885        886.0     3.0  39.0    0.0    5.0   29.1250\n",
      "886        887.0     2.0  27.0    0.0    0.0   13.0000\n",
      "887        888.0     1.0  19.0    0.0    0.0   30.0000\n",
      "888        889.0     3.0  28.0    1.0    2.0   23.4500\n",
      "889        890.0     1.0  26.0    0.0    0.0   30.0000\n",
      "890        891.0     3.0  32.0    0.0    0.0    7.7500\n",
      "\n",
      "[891 rows x 6 columns]\n"
     ]
    },
    {
     "data": {
      "text/plain": [
       "'\\nIn terms of Variance Threshold, important features are p_id, p_class, age, sibsp, parch and fare. \\n'"
      ]
     },
     "execution_count": 26,
     "metadata": {},
     "output_type": "execute_result"
    }
   ],
   "source": [
    "\"\"\"\n",
    "**Variance Threshold**\n",
    "\n",
    "This feature selection algorithm looks only at the features (X). \n",
    "We set threshold 0.5 which lower than this threshold will be removed. \"\"\"\n",
    "\n",
    "from sklearn.feature_selection import VarianceThreshold\n",
    "\n",
    "mdlsel = VarianceThreshold(threshold=0.5)\n",
    "mdlsel.fit(train)\n",
    "ix = mdlsel.get_support()\n",
    "#data1 = mdlsel.transform(train) \n",
    "data1 = pd.DataFrame(mdlsel.transform(train), columns = train.columns.values[ix])\n",
    "print(data1)\n",
    "\"\"\"\n",
    "In terms of Variance Threshold, important features are p_id, p_class, age, sibsp, parch and fare. \n",
    "\"\"\""
   ]
  },
  {
   "cell_type": "code",
   "execution_count": 27,
   "metadata": {},
   "outputs": [
    {
     "name": "stdout",
     "output_type": "stream",
     "text": [
      "   Pclass  Sex   Age     Fare  Embarked\n",
      "0     3.0  0.0  22.0   7.2500       0.0\n",
      "1     1.0  1.0  38.0  71.2833       1.0\n",
      "2     3.0  1.0  26.0   7.9250       0.0\n",
      "3     1.0  1.0  35.0  53.1000       0.0\n",
      "4     3.0  0.0  35.0   8.0500       0.0\n"
     ]
    },
    {
     "data": {
      "text/plain": [
       "'\\nIn terms of Variance Threshold, important features are p_class, sex,age, fare and embarked. \\n'"
      ]
     },
     "execution_count": 27,
     "metadata": {},
     "output_type": "execute_result"
    }
   ],
   "source": [
    "\"\"\"\n",
    "**Select K Best**\n",
    "Select features according to the k highest scores. We set k as 5 which mean getting \n",
    "important five features.\"\"\"\n",
    "\n",
    "from sklearn.feature_selection import SelectKBest\n",
    "from sklearn.feature_selection import chi2\n",
    "\n",
    "X = train.drop(\"Survived\",axis=1)\n",
    "y = train[\"Survived\"]\n",
    "\n",
    "mdlsel = SelectKBest(chi2, k=5) # en iyi feature lari alma\n",
    "mdlsel.fit(X,y)\n",
    "ix = mdlsel.get_support() # false iyi true lari alacak..\n",
    "data2 = pd.DataFrame(mdlsel.transform(X), columns = X.columns.values[ix]) # en iyi leri aldi... 7 tane...\n",
    "print(data2.head(n=5))\n",
    "\"\"\"\n",
    "In terms of Variance Threshold, important features are p_class, sex,age, fare and embarked. \n",
    "\"\"\"\n"
   ]
  },
  {
   "cell_type": "code",
   "execution_count": 28,
   "metadata": {},
   "outputs": [
    {
     "name": "stdout",
     "output_type": "stream",
     "text": [
      "   Pclass  Sex\n",
      "0     3.0  0.0\n",
      "1     1.0  1.0\n",
      "2     3.0  1.0\n",
      "3     1.0  1.0\n",
      "4     3.0  0.0\n"
     ]
    },
    {
     "data": {
      "text/plain": [
       "'\\nFor the best logistic regression, pclass and sex features are vital \\nfor predicting survival\\n'"
      ]
     },
     "execution_count": 28,
     "metadata": {},
     "output_type": "execute_result"
    }
   ],
   "source": [
    "\"\"\"\n",
    "Select From Model for Logistic Regression\n",
    "\"\"\"\n",
    "from sklearn.feature_selection import SelectFromModel\n",
    "from sklearn.linear_model import LogisticRegression\n",
    "\n",
    "X = train.drop(\"Survived\",axis=1)\n",
    "y = train[\"Survived\"]\n",
    "\n",
    "# Linear Model\n",
    "linmdl = LogisticRegression()\n",
    "linmdl.fit(X,y)\n",
    "mdl = SelectFromModel(linmdl,prefit=True)\n",
    "ix = mdl.get_support() # false iyi true lari alacak..\n",
    "data3 = pd.DataFrame(mdl.transform(X), columns = X.columns.values[ix]) # sadece 5 tane aldi...\n",
    "print(data3.head(n=5))\n",
    "\"\"\"\n",
    "For the best logistic regression, pclass and sex features are vital \n",
    "for predicting survival\n",
    "\"\"\"\n"
   ]
  },
  {
   "cell_type": "code",
   "execution_count": 29,
   "metadata": {},
   "outputs": [
    {
     "name": "stdout",
     "output_type": "stream",
     "text": [
      "   Pclass  Sex  SibSp  Parch  Embarked\n",
      "0     3.0  0.0    1.0    0.0       0.0\n",
      "1     1.0  1.0    1.0    0.0       1.0\n",
      "2     3.0  1.0    0.0    0.0       0.0\n",
      "3     1.0  1.0    1.0    0.0       0.0\n",
      "4     3.0  0.0    0.0    0.0       0.0\n"
     ]
    },
    {
     "data": {
      "text/plain": [
       "'\\nThe result of recursive feature selection are p_class, sex,sibsp, parch and embarked.\\n'"
      ]
     },
     "execution_count": 29,
     "metadata": {},
     "output_type": "execute_result"
    }
   ],
   "source": [
    "#last feature selection\n",
    "\"\"\"\n",
    "**Recursive Feature Selection**\n",
    "\n",
    "Given an external estimator that assigns weights to features \n",
    "(e.g., the coefficients of a linear model), the goal of recursive feature \n",
    "elimination (RFE) is to select features by recursively considering smaller \n",
    "and smaller sets of features. \n",
    "\n",
    "\"\"\"\n",
    "from sklearn.feature_selection import RFE\n",
    "\n",
    "mdl = RFE(linmdl,n_features_to_select=5)\n",
    "mdl.fit(X,y)\n",
    "ix = mdl.get_support() # false iyi true lari alacak..\n",
    "data4 = pd.DataFrame(mdl.transform(X), columns = X.columns.values[ix]) # sadece 5 tane aldi...\n",
    "print(data4.head(n=5))\n",
    "\"\"\"\n",
    "The result of recursive feature selection are p_class, sex,sibsp, parch and embarked.\n",
    "\"\"\"\n"
   ]
  },
  {
   "cell_type": "code",
   "execution_count": 30,
   "metadata": {},
   "outputs": [
    {
     "name": "stdout",
     "output_type": "stream",
     "text": [
      "Logistic Regression Score:  0.813432835821\n",
      "MSE    : 0.186567164179\n",
      "R2     : 0.23107821197\n"
     ]
    }
   ],
   "source": [
    "\"\"\"\n",
    "Logistic Regression\n",
    "\"\"\"\n",
    "from sklearn import linear_model\n",
    "from sklearn.model_selection import train_test_split\n",
    "from sklearn.metrics import accuracy_score\n",
    "\n",
    "\n",
    "#classification - > f1\n",
    "#regresyon -> mse error \n",
    "\n",
    "\n",
    "target = train['Survived'].values\n",
    "# We drop embarked... because when we added it... the score is around 80%\n",
    "features = train[['Pclass','Sex','SibSp','Parch','Age']].values\n",
    "\n",
    "\n",
    "#Build test and training test\n",
    "X_train,X_test,y_train,y_test = train_test_split(features,target,test_size=0.3,random_state=42)\n",
    "\n",
    "\n",
    "classifier = linear_model.LogisticRegression()\n",
    "classifier_ = classifier.fit(X_train,y_train)\n",
    "target_predict=classifier_.predict(X_test)\n",
    "\n",
    "print(\"Logistic Regression Score: \",accuracy_score(y_test,target_predict))\n",
    "\n",
    "from sklearn.metrics import mean_squared_error, r2_score\n",
    "#18 percent fallible(yanilma payi)\n",
    "print (\"MSE    :\",mean_squared_error(y_test,target_predict))\n",
    "print (\"R2     :\",r2_score(y_test,target_predict))"
   ]
  },
  {
   "cell_type": "code",
   "execution_count": 31,
   "metadata": {},
   "outputs": [
    {
     "name": "stdout",
     "output_type": "stream",
     "text": [
      "Polynomial Features:  0.813432835821\n"
     ]
    }
   ],
   "source": [
    "\"\"\"\n",
    "Polynomial Features\n",
    "\"\"\"\n",
    "\n",
    "from sklearn import preprocessing\n",
    "#Build test and training test\n",
    "X_train,X_test,y_train,y_test = train_test_split(features,target,test_size=0.3,random_state=42)\n",
    "poly = preprocessing.PolynomialFeatures(degree=2,include_bias=False)\n",
    "poly_features = poly.fit_transform(features)\n",
    "\n",
    "classifier_ = classifier.fit(X_train,y_train)\n",
    "#The score is 81%\n",
    "print(\"Polynomial Features: \",accuracy_score(y_test,target_predict))"
   ]
  },
  {
   "cell_type": "code",
   "execution_count": 32,
   "metadata": {},
   "outputs": [
    {
     "name": "stdout",
     "output_type": "stream",
     "text": [
      "Decision tree score:  0.764925373134\n",
      "MSE    : 0.235074626866\n",
      "R2     : 0.0311585470821\n"
     ]
    }
   ],
   "source": [
    "\"\"\"\n",
    "Decision Tree\n",
    "\"\"\"\n",
    "from sklearn import tree\n",
    "from sklearn.metrics import accuracy_score\n",
    "\n",
    "target = train['Survived'].values\n",
    "data_features_names = ['Pclass','Sex','SibSp','Parch','Fare','Embarked','Age']\n",
    "features = train[data_features_names].values\n",
    "\n",
    "#Build test and training test\n",
    "X_train,X_test,y_train,y_test = train_test_split(features,target,test_size=0.3,random_state=42)\n",
    "\n",
    "#features = train[['Pclass','Sex']] #78 percent verdi dustu...\n",
    "#linear model olarak dusunuyor...\n",
    "\n",
    "decision_tree = tree.DecisionTreeClassifier(random_state=1)\n",
    "#output 1,0 bu nedenle decision tree classifier kullaniyoruz...\n",
    "\n",
    "decision_tree_ = decision_tree.fit(X_train,y_train)\n",
    "target_predict=decision_tree_.predict(X_test)\n",
    "\n",
    "#The score is 77% \n",
    "print(\"Decision tree score: \",accuracy_score(y_test,target_predict))\n",
    "\n",
    "from sklearn.metrics import mean_squared_error, r2_score\n",
    "print (\"MSE    :\",mean_squared_error(y_test,target_predict))\n",
    "print (\"R2     :\",r2_score(y_test,target_predict))"
   ]
  },
  {
   "cell_type": "code",
   "execution_count": 35,
   "metadata": {},
   "outputs": [
    {
     "name": "stdout",
     "output_type": "stream",
     "text": [
      "Generalized tree score:  0.878787878788\n",
      "Warning: Could not load \"/anaconda/lib/graphviz/libgvplugin_pango.6.dylib\" - file not found\n",
      "Warning: Could not load \"/anaconda/lib/graphviz/libgvplugin_pango.6.dylib\" - file not found\n",
      "Warning: Could not load \"/anaconda/lib/graphviz/libgvplugin_pango.6.dylib\" - file not found\n",
      "\n"
     ]
    },
    {
     "data": {
      "text/plain": [
       "True"
      ]
     },
     "execution_count": 35,
     "metadata": {},
     "output_type": "execute_result"
    }
   ],
   "source": [
    "\"\"\"\n",
    "Visualize Tree -> tree.png works with the anaconda spyder\n",
    "\"\"\"\n",
    "import pydotplus \n",
    "generalized_tree = tree.DecisionTreeClassifier(\n",
    "        random_state = 1,\n",
    "        max_depth = 7,\n",
    "        min_samples_split=2\n",
    ")\n",
    "\n",
    "generalized_tree_ = generalized_tree.fit(features,target)\n",
    "\n",
    "print(\"Generalized tree score: \", generalized_tree_.score(features,target))\n",
    "\n",
    "dot_data=tree.export_graphviz(generalized_tree_,feature_names=data_features_names,out_file=None)\n",
    "graph = pydotplus.graphviz.graph_from_dot_data(dot_data)\n",
    "graph.write_png('tree.png')"
   ]
  },
  {
   "cell_type": "code",
   "execution_count": null,
   "metadata": {
    "collapsed": true
   },
   "outputs": [],
   "source": []
  },
  {
   "cell_type": "code",
   "execution_count": null,
   "metadata": {
    "collapsed": true
   },
   "outputs": [],
   "source": []
  }
 ],
 "metadata": {
  "kernelspec": {
   "display_name": "Python 3",
   "language": "python",
   "name": "python3"
  },
  "language_info": {
   "codemirror_mode": {
    "name": "ipython",
    "version": 3
   },
   "file_extension": ".py",
   "mimetype": "text/x-python",
   "name": "python",
   "nbconvert_exporter": "python",
   "pygments_lexer": "ipython3",
   "version": "3.6.3"
  }
 },
 "nbformat": 4,
 "nbformat_minor": 2
}
